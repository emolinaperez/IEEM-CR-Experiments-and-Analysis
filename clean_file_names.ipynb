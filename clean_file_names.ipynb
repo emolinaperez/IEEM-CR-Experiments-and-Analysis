{
 "cells": [
  {
   "cell_type": "code",
   "execution_count": 1,
   "metadata": {},
   "outputs": [],
   "source": [
    "import os, os.path\n",
    "import shutil\n",
    "import numpy as np\n",
    "from time import time\n",
    "import pandas as pd\n",
    "import math as m\n",
    "import importlib\n",
    "import matplotlib.pyplot as plt\n",
    "import itertools"
   ]
  },
  {
   "cell_type": "code",
   "execution_count": 5,
   "metadata": {},
   "outputs": [
    {
     "data": {
      "text/plain": [
       "'/Users/jsyme/Documents/Projects/FY20/Calib Runs 2021-02-12'"
      ]
     },
     "execution_count": 5,
     "metadata": {},
     "output_type": "execute_result"
    }
   ],
   "source": [
    "dir_files_in"
   ]
  },
  {
   "cell_type": "code",
   "execution_count": 2,
   "metadata": {},
   "outputs": [
    {
     "name": "stdout",
     "output_type": "stream",
     "text": [
      "run 1 done.\n",
      "run 2 done.\n",
      "run 3 done.\n",
      "run 4 done.\n",
      "run 5 done.\n",
      "run 6 done.\n",
      "run 7 done.\n",
      "run 8 done.\n",
      "run 9 done.\n",
      "run 10 done.\n",
      "run 11 done.\n",
      "run 12 done.\n",
      "run 13 done.\n",
      "run 14 done.\n",
      "run 15 done.\n"
     ]
    }
   ],
   "source": [
    "nm_files_in = \"Calib Runs 2021-02-26\"\n",
    "dir_files_in = os.path.join(os.getcwd(), nm_files_in)\n",
    "#all excel files\n",
    "all_runs = [int(x.replace(\"r\", \"\")) for x in os.listdir(dir_files_in) if (\".\" not in x) and (x[0] == \"r\")]\n",
    "all_runs.sort()\n",
    "\n",
    "#set directories to copy into\n",
    "dir_cp_mac = os.path.join(os.getcwd(), \"IEEM-en-GAMS-with-EXCAP-2021-01-15\", \"user-files\", \"cri2016rand\")\n",
    "dir_cp_win = \"/Volumes/[C] syme-j-PVM.hidden/Users/jsyme/Documents/Projects/SWCHE093-1000/IEEM-en-GAMS-with-EXCAP-2021-01-15/user-files/cri2016rand\"\n",
    "\n",
    "df_ed = []\n",
    "#loop \n",
    "for r in all_runs:\n",
    "    r_str = \"r\" + str(r)\n",
    "    dir_cur = os.path.join(dir_files_in, r_str)\n",
    "    #get file names\n",
    "    fn_xlsx = [x for x in os.listdir(dir_cur)]\n",
    "    \n",
    "    fn_dat = [x for x in fn_xlsx if \"-data\" in x]\n",
    "    fn_sim = [x for x in fn_xlsx if \"-sim\" in x]\n",
    "\n",
    "    if min(len(fn_dat), len(fn_sim)) == 0:\n",
    "        \n",
    "        print(\"\\n\\tIssue with run number \" + str(r) + \"\\n\")\n",
    "        \n",
    "    else:\n",
    "        #data file names\n",
    "        fn_dat = fn_dat[0]\n",
    "        fn_sim = fn_sim[0]\n",
    "        #new names\n",
    "        fn_dat_new = fn_dat.replace(\"-data\", \"-data_d\" + str(r)).replace(\"new_\", \"\")\n",
    "        fn_sim_new = fn_sim.replace(\"-sim\", \"-sim_s\" + str(r)).replace(\"new_\", \"\")\n",
    "        #get scenarios for experimental design\n",
    "        ed_row = [r, fn_dat_new.split(\"_\")[1].replace(\".xlsx\", \"\"), fn_sim_new.split(\"_\")[1].replace(\".xlsx\", \"\")]\n",
    "        df_ed.append(ed_row)\n",
    "\n",
    "        ##  copy over\n",
    "\n",
    "        #set paths\n",
    "        fp_dat = os.path.join(dir_cur, fn_dat)\n",
    "        fp_sim = os.path.join(dir_cur, fn_sim)\n",
    "        #data\n",
    "        fp_dat_new = os.path.join(dir_cp_mac, fn_dat_new)\n",
    "        fp_dat_new_win = os.path.join(dir_cp_win, fn_dat_new)\n",
    "        #sim\n",
    "        fp_sim_new = os.path.join(dir_cp_mac, fn_sim_new)\n",
    "        fp_sim_new_win = os.path.join(dir_cp_win, fn_sim_new)\n",
    "\n",
    "        #copy paths\n",
    "        shutil.copyfile(fp_dat, fp_dat_new)\n",
    "        shutil.copyfile(fp_dat, fp_dat_new_win)\n",
    "        shutil.copyfile(fp_sim, fp_sim_new)\n",
    "        shutil.copyfile(fp_sim, fp_sim_new_win)\n",
    "\n",
    "        print(\"run \" + str(r) + \" done.\")\n",
    "\n",
    "df_ed_out = pd.DataFrame(df_ed, columns = [\"run_id\", \"data\", \"sim\"])\n",
    "\n",
    "#export design\n",
    "dir_ed_out = os.path.dirname(os.getcwd())\n",
    "dir_ed_out_win = os.path.dirname(os.path.dirname(dir_cp_win))\n",
    "fn_ed = \"ieem_exp_design.csv\"\n",
    "df_ed_out.to_csv(os.path.join(dir_ed_out, fn_ed), index = None, encoding = \"UTF-8\")\n",
    "df_ed_out.to_csv(os.path.join(dir_ed_out_win, fn_ed), index = None, encoding = \"UTF-8\")\n"
   ]
  },
  {
   "cell_type": "code",
   "execution_count": 23,
   "metadata": {},
   "outputs": [
    {
     "data": {
      "text/plain": [
       "'d99.xlsx'"
      ]
     },
     "execution_count": 23,
     "metadata": {},
     "output_type": "execute_result"
    }
   ],
   "source": [
    "fn_dat_new.split(\"_\")[2]"
   ]
  },
  {
   "cell_type": "code",
   "execution_count": null,
   "metadata": {},
   "outputs": [],
   "source": []
  },
  {
   "cell_type": "code",
   "execution_count": null,
   "metadata": {},
   "outputs": [],
   "source": []
  },
  {
   "cell_type": "code",
   "execution_count": null,
   "metadata": {},
   "outputs": [],
   "source": []
  },
  {
   "cell_type": "code",
   "execution_count": null,
   "metadata": {},
   "outputs": [],
   "source": []
  },
  {
   "cell_type": "code",
   "execution_count": null,
   "metadata": {},
   "outputs": [],
   "source": []
  },
  {
   "cell_type": "code",
   "execution_count": null,
   "metadata": {},
   "outputs": [],
   "source": []
  },
  {
   "cell_type": "code",
   "execution_count": null,
   "metadata": {},
   "outputs": [],
   "source": []
  },
  {
   "cell_type": "code",
   "execution_count": null,
   "metadata": {},
   "outputs": [],
   "source": []
  }
 ],
 "metadata": {
  "kernelspec": {
   "display_name": "Python 3",
   "language": "python",
   "name": "python3"
  },
  "language_info": {
   "codemirror_mode": {
    "name": "ipython",
    "version": 3
   },
   "file_extension": ".py",
   "mimetype": "text/x-python",
   "name": "python",
   "nbconvert_exporter": "python",
   "pygments_lexer": "ipython3",
   "version": "3.8.5"
  }
 },
 "nbformat": 4,
 "nbformat_minor": 4
}
